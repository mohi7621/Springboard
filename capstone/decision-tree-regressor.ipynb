{
 "cells": [
  {
   "cell_type": "markdown",
   "metadata": {},
   "source": [
    "### Initial Decision Tree Regressor Exploration"
   ]
  },
  {
   "cell_type": "code",
   "execution_count": 1,
   "metadata": {
    "collapsed": false
   },
   "outputs": [
    {
     "name": "stdout",
     "output_type": "stream",
     "text": [
      "Populating the interactive namespace from numpy and matplotlib\n"
     ]
    }
   ],
   "source": [
    "%pylab inline \n",
    "\n",
    "import numpy as np\n",
    "import pandas as pd\n",
    "import scipy.stats as stats\n",
    "import matplotlib.pyplot as plt\n",
    "import sklearn\n",
    "import seaborn as sns\n",
    "from sklearn.linear_model import LinearRegression\n",
    "\n",
    "# special matplotlib argument for improved plots\n",
    "from matplotlib import rcParams\n",
    "sns.set_style(\"whitegrid\")\n",
    "sns.set_context(\"poster\")"
   ]
  },
  {
   "cell_type": "code",
   "execution_count": 2,
   "metadata": {
    "collapsed": true
   },
   "outputs": [],
   "source": [
    "data = pd.DataFrame.from_csv('cap-data/data-clean-round1/data_v2.csv', index_col= 0, encoding = 'utf-8')\n",
    "nweight = pd.DataFrame.from_csv('cap-data/data-clean-round1/nweight.csv', index_col= 0, encoding = 'utf-8')\n",
    "pc = pd.DataFrame.from_csv('cap-data/data-clean-round1/pc_v2.csv', index_col= 0, encoding = 'utf-8')\n",
    "kwh = pd.DataFrame.from_csv('cap-data/data-clean-round1/kwh.csv', index_col= 0, encoding = 'utf-8')\n",
    "pc_cat = pd.DataFrame.from_csv('cap-data/data-clean-round1/pc_cat_vars.csv', index_col= 0, encoding = 'utf-8')"
   ]
  },
  {
   "cell_type": "markdown",
   "metadata": {},
   "source": [
    "### Splitting Up Dataset for kfold cross validation\n"
   ]
  },
  {
   "cell_type": "code",
   "execution_count": 3,
   "metadata": {
    "collapsed": true
   },
   "outputs": [],
   "source": [
    "from sklearn.model_selection import train_test_split"
   ]
  },
  {
   "cell_type": "code",
   "execution_count": 4,
   "metadata": {
    "collapsed": true
   },
   "outputs": [],
   "source": [
    "cat_data = data.filter(items = pc_cat['Variable Name'])\n",
    "cat_data['NWEIGHT'] = nweight"
   ]
  },
  {
   "cell_type": "code",
   "execution_count": 5,
   "metadata": {
    "collapsed": true
   },
   "outputs": [],
   "source": [
    "X_train, X_test, y_train, y_test = train_test_split(cat_data, kwh, test_size=0.4)"
   ]
  },
  {
   "cell_type": "code",
   "execution_count": 6,
   "metadata": {
    "collapsed": false
   },
   "outputs": [],
   "source": [
    "nwgt_train = X_train.NWEIGHT\n",
    "nwgt_train = nwgt_train.as_matrix()\n",
    "X_train = X_train.drop('NWEIGHT', axis = 1)\n",
    "\n",
    "nwgt_test = X_test.NWEIGHT\n",
    "nwgt_test = nwgt_test.as_matrix()\n",
    "X_test = X_test.drop('NWEIGHT', axis = 1)"
   ]
  },
  {
   "cell_type": "markdown",
   "metadata": {},
   "source": [
    "### Feature Selection"
   ]
  },
  {
   "cell_type": "code",
   "execution_count": 7,
   "metadata": {
    "collapsed": true
   },
   "outputs": [],
   "source": [
    "from sklearn.ensemble import ExtraTreesClassifier\n",
    "from sklearn.feature_selection import SelectFromModel\n",
    "from sklearn.ensemble import AdaBoostRegressor"
   ]
  },
  {
   "cell_type": "code",
   "execution_count": 8,
   "metadata": {
    "collapsed": false
   },
   "outputs": [],
   "source": [
    "# Random forest with n =15 to determine feature importance\n",
    "forest = ExtraTreesClassifier(n_estimators = 50)\n",
    "#forest = AdaBoostRegressor(n_estimators = 50)\n",
    "forest.fit(X_train, y_train.KWH, sample_weight = nwgt_train)\n",
    "importances = forest.feature_importances_\n",
    "# std = np.std([tree.feature_importances_ for tree in forest.estimators_],axis=0)\n",
    "indices = np.argsort(importances)[::-1]"
   ]
  },
  {
   "cell_type": "code",
   "execution_count": null,
   "metadata": {
    "collapsed": true
   },
   "outputs": [],
   "source": []
  },
  {
   "cell_type": "code",
   "execution_count": 9,
   "metadata": {
    "collapsed": true
   },
   "outputs": [],
   "source": [
    "# Data frame with feature rankings\n",
    "rfeats = pd.DataFrame(columns = ['no', 'imp', 'name'])\n",
    "\n",
    "for f in range(X_train.shape[1]):\n",
    "    rfeats.loc[len(rfeats)] = [indices[f], importances[indices[f]], X_train.columns[indices[f]]]"
   ]
  },
  {
   "cell_type": "code",
   "execution_count": 10,
   "metadata": {
    "collapsed": false
   },
   "outputs": [
    {
     "data": {
      "text/html": [
       "<div>\n",
       "<table border=\"1\" class=\"dataframe\">\n",
       "  <thead>\n",
       "    <tr style=\"text-align: right;\">\n",
       "      <th></th>\n",
       "      <th>no</th>\n",
       "      <th>imp</th>\n",
       "      <th>name</th>\n",
       "    </tr>\n",
       "  </thead>\n",
       "  <tbody>\n",
       "    <tr>\n",
       "      <th>0</th>\n",
       "      <td>59.0</td>\n",
       "      <td>0.006251</td>\n",
       "      <td>NUMMEAL</td>\n",
       "    </tr>\n",
       "    <tr>\n",
       "      <th>1</th>\n",
       "      <td>49.0</td>\n",
       "      <td>0.006183</td>\n",
       "      <td>OVENUSE</td>\n",
       "    </tr>\n",
       "    <tr>\n",
       "      <th>2</th>\n",
       "      <td>395.0</td>\n",
       "      <td>0.005992</td>\n",
       "      <td>MONEYPY</td>\n",
       "    </tr>\n",
       "    <tr>\n",
       "      <th>3</th>\n",
       "      <td>2.0</td>\n",
       "      <td>0.005977</td>\n",
       "      <td>REPORTABLE_DOMAIN</td>\n",
       "    </tr>\n",
       "    <tr>\n",
       "      <th>4</th>\n",
       "      <td>66.0</td>\n",
       "      <td>0.005969</td>\n",
       "      <td>AGERFRI1</td>\n",
       "    </tr>\n",
       "    <tr>\n",
       "      <th>5</th>\n",
       "      <td>372.0</td>\n",
       "      <td>0.005891</td>\n",
       "      <td>AGEHHMEMCAT2</td>\n",
       "    </tr>\n",
       "    <tr>\n",
       "      <th>6</th>\n",
       "      <td>371.0</td>\n",
       "      <td>0.005855</td>\n",
       "      <td>EDUCATION</td>\n",
       "    </tr>\n",
       "    <tr>\n",
       "      <th>7</th>\n",
       "      <td>8.0</td>\n",
       "      <td>0.005797</td>\n",
       "      <td>YEARMADERANGE</td>\n",
       "    </tr>\n",
       "    <tr>\n",
       "      <th>8</th>\n",
       "      <td>277.0</td>\n",
       "      <td>0.005796</td>\n",
       "      <td>WINDOWS</td>\n",
       "    </tr>\n",
       "    <tr>\n",
       "      <th>9</th>\n",
       "      <td>192.0</td>\n",
       "      <td>0.005609</td>\n",
       "      <td>EQUIPAGE</td>\n",
       "    </tr>\n",
       "    <tr>\n",
       "      <th>10</th>\n",
       "      <td>67.0</td>\n",
       "      <td>0.005483</td>\n",
       "      <td>ESFRIG</td>\n",
       "    </tr>\n",
       "    <tr>\n",
       "      <th>11</th>\n",
       "      <td>13.0</td>\n",
       "      <td>0.005477</td>\n",
       "      <td>WALLTYPE</td>\n",
       "    </tr>\n",
       "    <tr>\n",
       "      <th>12</th>\n",
       "      <td>231.0</td>\n",
       "      <td>0.005418</td>\n",
       "      <td>WHEATAGE</td>\n",
       "    </tr>\n",
       "    <tr>\n",
       "      <th>13</th>\n",
       "      <td>62.0</td>\n",
       "      <td>0.005383</td>\n",
       "      <td>TYPERFR1</td>\n",
       "    </tr>\n",
       "    <tr>\n",
       "      <th>14</th>\n",
       "      <td>96.0</td>\n",
       "      <td>0.005303</td>\n",
       "      <td>AGEDW</td>\n",
       "    </tr>\n",
       "    <tr>\n",
       "      <th>15</th>\n",
       "      <td>184.0</td>\n",
       "      <td>0.005269</td>\n",
       "      <td>CHRGPLGE</td>\n",
       "    </tr>\n",
       "    <tr>\n",
       "      <th>16</th>\n",
       "      <td>247.0</td>\n",
       "      <td>0.005151</td>\n",
       "      <td>AGECENAC</td>\n",
       "    </tr>\n",
       "    <tr>\n",
       "      <th>17</th>\n",
       "      <td>9.0</td>\n",
       "      <td>0.005134</td>\n",
       "      <td>OCCUPYYRANGE</td>\n",
       "    </tr>\n",
       "    <tr>\n",
       "      <th>18</th>\n",
       "      <td>106.0</td>\n",
       "      <td>0.005125</td>\n",
       "      <td>AGECWASH</td>\n",
       "    </tr>\n",
       "    <tr>\n",
       "      <th>19</th>\n",
       "      <td>4.0</td>\n",
       "      <td>0.005120</td>\n",
       "      <td>Climate_Region_Pub</td>\n",
       "    </tr>\n",
       "    <tr>\n",
       "      <th>20</th>\n",
       "      <td>63.0</td>\n",
       "      <td>0.005109</td>\n",
       "      <td>SIZRFRI1</td>\n",
       "    </tr>\n",
       "    <tr>\n",
       "      <th>21</th>\n",
       "      <td>116.0</td>\n",
       "      <td>0.005109</td>\n",
       "      <td>TVTYPE1</td>\n",
       "    </tr>\n",
       "    <tr>\n",
       "      <th>22</th>\n",
       "      <td>1.0</td>\n",
       "      <td>0.005053</td>\n",
       "      <td>DIVISION</td>\n",
       "    </tr>\n",
       "    <tr>\n",
       "      <th>23</th>\n",
       "      <td>183.0</td>\n",
       "      <td>0.005042</td>\n",
       "      <td>ELECCHRG</td>\n",
       "    </tr>\n",
       "    <tr>\n",
       "      <th>24</th>\n",
       "      <td>230.0</td>\n",
       "      <td>0.004981</td>\n",
       "      <td>WHEATSIZ</td>\n",
       "    </tr>\n",
       "    <tr>\n",
       "      <th>25</th>\n",
       "      <td>115.0</td>\n",
       "      <td>0.004907</td>\n",
       "      <td>TVSIZE1</td>\n",
       "    </tr>\n",
       "    <tr>\n",
       "      <th>26</th>\n",
       "      <td>262.0</td>\n",
       "      <td>0.004884</td>\n",
       "      <td>USECFAN</td>\n",
       "    </tr>\n",
       "    <tr>\n",
       "      <th>27</th>\n",
       "      <td>287.0</td>\n",
       "      <td>0.004877</td>\n",
       "      <td>DRAFTY</td>\n",
       "    </tr>\n",
       "    <tr>\n",
       "      <th>28</th>\n",
       "      <td>114.0</td>\n",
       "      <td>0.004834</td>\n",
       "      <td>AGECDRYER</td>\n",
       "    </tr>\n",
       "    <tr>\n",
       "      <th>29</th>\n",
       "      <td>95.0</td>\n",
       "      <td>0.004822</td>\n",
       "      <td>DWASHUSE</td>\n",
       "    </tr>\n",
       "  </tbody>\n",
       "</table>\n",
       "</div>"
      ],
      "text/plain": [
       "       no       imp                name\n",
       "0    59.0  0.006251             NUMMEAL\n",
       "1    49.0  0.006183             OVENUSE\n",
       "2   395.0  0.005992             MONEYPY\n",
       "3     2.0  0.005977   REPORTABLE_DOMAIN\n",
       "4    66.0  0.005969            AGERFRI1\n",
       "5   372.0  0.005891        AGEHHMEMCAT2\n",
       "6   371.0  0.005855           EDUCATION\n",
       "7     8.0  0.005797       YEARMADERANGE\n",
       "8   277.0  0.005796             WINDOWS\n",
       "9   192.0  0.005609            EQUIPAGE\n",
       "10   67.0  0.005483              ESFRIG\n",
       "11   13.0  0.005477            WALLTYPE\n",
       "12  231.0  0.005418            WHEATAGE\n",
       "13   62.0  0.005383            TYPERFR1\n",
       "14   96.0  0.005303               AGEDW\n",
       "15  184.0  0.005269            CHRGPLGE\n",
       "16  247.0  0.005151            AGECENAC\n",
       "17    9.0  0.005134        OCCUPYYRANGE\n",
       "18  106.0  0.005125            AGECWASH\n",
       "19    4.0  0.005120  Climate_Region_Pub\n",
       "20   63.0  0.005109            SIZRFRI1\n",
       "21  116.0  0.005109             TVTYPE1\n",
       "22    1.0  0.005053            DIVISION\n",
       "23  183.0  0.005042            ELECCHRG\n",
       "24  230.0  0.004981            WHEATSIZ\n",
       "25  115.0  0.004907             TVSIZE1\n",
       "26  262.0  0.004884             USECFAN\n",
       "27  287.0  0.004877              DRAFTY\n",
       "28  114.0  0.004834           AGECDRYER\n",
       "29   95.0  0.004822            DWASHUSE"
      ]
     },
     "execution_count": 10,
     "metadata": {},
     "output_type": "execute_result"
    }
   ],
   "source": [
    "rfeats.head(30)"
   ]
  },
  {
   "cell_type": "code",
   "execution_count": 11,
   "metadata": {
    "collapsed": false
   },
   "outputs": [
    {
     "data": {
      "text/plain": [
       "(7249, 401)"
      ]
     },
     "execution_count": 11,
     "metadata": {},
     "output_type": "execute_result"
    }
   ],
   "source": [
    "X_train.shape"
   ]
  },
  {
   "cell_type": "code",
   "execution_count": 12,
   "metadata": {
    "collapsed": false
   },
   "outputs": [
    {
     "data": {
      "image/png": "[encoded data removed]",
      "text/plain": [
       "<matplotlib.figure.Figure at 0x11551e160>"
      ]
     },
     "metadata": {},
     "output_type": "display_data"
    }
   ],
   "source": [
    "# Plot the feature importances of the forest\n",
    "plt.figure()\n",
    "plt.title(\"Feature importances\")\n",
    "plt.bar(range(X_train.shape[1]), importances[indices], color=\"r\", align=\"center\")\n",
    "plt.xticks(range(X_train.shape[1]), indices)\n",
    "plt.xlim([-1, X_train.shape[1]])\n",
    "plt.show()"
   ]
  },
  {
   "cell_type": "code",
   "execution_count": 13,
   "metadata": {
    "collapsed": true
   },
   "outputs": [],
   "source": [
    "top_feat = rfeats[rfeats.imp >=0.005] # Arbitrary threshold for now"
   ]
  },
  {
   "cell_type": "code",
   "execution_count": 14,
   "metadata": {
    "collapsed": false,
    "scrolled": true
   },
   "outputs": [
    {
     "data": {
      "text/html": [
       "<div>\n",
       "<table border=\"1\" class=\"dataframe\">\n",
       "  <thead>\n",
       "    <tr style=\"text-align: right;\">\n",
       "      <th></th>\n",
       "      <th>no</th>\n",
       "      <th>imp</th>\n",
       "      <th>name</th>\n",
       "    </tr>\n",
       "  </thead>\n",
       "  <tbody>\n",
       "    <tr>\n",
       "      <th>0</th>\n",
       "      <td>59.0</td>\n",
       "      <td>0.006251</td>\n",
       "      <td>NUMMEAL</td>\n",
       "    </tr>\n",
       "    <tr>\n",
       "      <th>1</th>\n",
       "      <td>49.0</td>\n",
       "      <td>0.006183</td>\n",
       "      <td>OVENUSE</td>\n",
       "    </tr>\n",
       "    <tr>\n",
       "      <th>2</th>\n",
       "      <td>395.0</td>\n",
       "      <td>0.005992</td>\n",
       "      <td>MONEYPY</td>\n",
       "    </tr>\n",
       "    <tr>\n",
       "      <th>3</th>\n",
       "      <td>2.0</td>\n",
       "      <td>0.005977</td>\n",
       "      <td>REPORTABLE_DOMAIN</td>\n",
       "    </tr>\n",
       "    <tr>\n",
       "      <th>4</th>\n",
       "      <td>66.0</td>\n",
       "      <td>0.005969</td>\n",
       "      <td>AGERFRI1</td>\n",
       "    </tr>\n",
       "    <tr>\n",
       "      <th>5</th>\n",
       "      <td>372.0</td>\n",
       "      <td>0.005891</td>\n",
       "      <td>AGEHHMEMCAT2</td>\n",
       "    </tr>\n",
       "    <tr>\n",
       "      <th>6</th>\n",
       "      <td>371.0</td>\n",
       "      <td>0.005855</td>\n",
       "      <td>EDUCATION</td>\n",
       "    </tr>\n",
       "    <tr>\n",
       "      <th>7</th>\n",
       "      <td>8.0</td>\n",
       "      <td>0.005797</td>\n",
       "      <td>YEARMADERANGE</td>\n",
       "    </tr>\n",
       "    <tr>\n",
       "      <th>8</th>\n",
       "      <td>277.0</td>\n",
       "      <td>0.005796</td>\n",
       "      <td>WINDOWS</td>\n",
       "    </tr>\n",
       "    <tr>\n",
       "      <th>9</th>\n",
       "      <td>192.0</td>\n",
       "      <td>0.005609</td>\n",
       "      <td>EQUIPAGE</td>\n",
       "    </tr>\n",
       "    <tr>\n",
       "      <th>10</th>\n",
       "      <td>67.0</td>\n",
       "      <td>0.005483</td>\n",
       "      <td>ESFRIG</td>\n",
       "    </tr>\n",
       "    <tr>\n",
       "      <th>11</th>\n",
       "      <td>13.0</td>\n",
       "      <td>0.005477</td>\n",
       "      <td>WALLTYPE</td>\n",
       "    </tr>\n",
       "    <tr>\n",
       "      <th>12</th>\n",
       "      <td>231.0</td>\n",
       "      <td>0.005418</td>\n",
       "      <td>WHEATAGE</td>\n",
       "    </tr>\n",
       "    <tr>\n",
       "      <th>13</th>\n",
       "      <td>62.0</td>\n",
       "      <td>0.005383</td>\n",
       "      <td>TYPERFR1</td>\n",
       "    </tr>\n",
       "    <tr>\n",
       "      <th>14</th>\n",
       "      <td>96.0</td>\n",
       "      <td>0.005303</td>\n",
       "      <td>AGEDW</td>\n",
       "    </tr>\n",
       "    <tr>\n",
       "      <th>15</th>\n",
       "      <td>184.0</td>\n",
       "      <td>0.005269</td>\n",
       "      <td>CHRGPLGE</td>\n",
       "    </tr>\n",
       "    <tr>\n",
       "      <th>16</th>\n",
       "      <td>247.0</td>\n",
       "      <td>0.005151</td>\n",
       "      <td>AGECENAC</td>\n",
       "    </tr>\n",
       "    <tr>\n",
       "      <th>17</th>\n",
       "      <td>9.0</td>\n",
       "      <td>0.005134</td>\n",
       "      <td>OCCUPYYRANGE</td>\n",
       "    </tr>\n",
       "    <tr>\n",
       "      <th>18</th>\n",
       "      <td>106.0</td>\n",
       "      <td>0.005125</td>\n",
       "      <td>AGECWASH</td>\n",
       "    </tr>\n",
       "    <tr>\n",
       "      <th>19</th>\n",
       "      <td>4.0</td>\n",
       "      <td>0.005120</td>\n",
       "      <td>Climate_Region_Pub</td>\n",
       "    </tr>\n",
       "    <tr>\n",
       "      <th>20</th>\n",
       "      <td>63.0</td>\n",
       "      <td>0.005109</td>\n",
       "      <td>SIZRFRI1</td>\n",
       "    </tr>\n",
       "    <tr>\n",
       "      <th>21</th>\n",
       "      <td>116.0</td>\n",
       "      <td>0.005109</td>\n",
       "      <td>TVTYPE1</td>\n",
       "    </tr>\n",
       "    <tr>\n",
       "      <th>22</th>\n",
       "      <td>1.0</td>\n",
       "      <td>0.005053</td>\n",
       "      <td>DIVISION</td>\n",
       "    </tr>\n",
       "    <tr>\n",
       "      <th>23</th>\n",
       "      <td>183.0</td>\n",
       "      <td>0.005042</td>\n",
       "      <td>ELECCHRG</td>\n",
       "    </tr>\n",
       "  </tbody>\n",
       "</table>\n",
       "</div>"
      ],
      "text/plain": [
       "       no       imp                name\n",
       "0    59.0  0.006251             NUMMEAL\n",
       "1    49.0  0.006183             OVENUSE\n",
       "2   395.0  0.005992             MONEYPY\n",
       "3     2.0  0.005977   REPORTABLE_DOMAIN\n",
       "4    66.0  0.005969            AGERFRI1\n",
       "5   372.0  0.005891        AGEHHMEMCAT2\n",
       "6   371.0  0.005855           EDUCATION\n",
       "7     8.0  0.005797       YEARMADERANGE\n",
       "8   277.0  0.005796             WINDOWS\n",
       "9   192.0  0.005609            EQUIPAGE\n",
       "10   67.0  0.005483              ESFRIG\n",
       "11   13.0  0.005477            WALLTYPE\n",
       "12  231.0  0.005418            WHEATAGE\n",
       "13   62.0  0.005383            TYPERFR1\n",
       "14   96.0  0.005303               AGEDW\n",
       "15  184.0  0.005269            CHRGPLGE\n",
       "16  247.0  0.005151            AGECENAC\n",
       "17    9.0  0.005134        OCCUPYYRANGE\n",
       "18  106.0  0.005125            AGECWASH\n",
       "19    4.0  0.005120  Climate_Region_Pub\n",
       "20   63.0  0.005109            SIZRFRI1\n",
       "21  116.0  0.005109             TVTYPE1\n",
       "22    1.0  0.005053            DIVISION\n",
       "23  183.0  0.005042            ELECCHRG"
      ]
     },
     "execution_count": 14,
     "metadata": {},
     "output_type": "execute_result"
    }
   ],
   "source": [
    "top_feat"
   ]
  },
  {
   "cell_type": "markdown",
   "metadata": {},
   "source": [
    "#### Filter out top features from data"
   ]
  },
  {
   "cell_type": "code",
   "execution_count": 15,
   "metadata": {
    "collapsed": true
   },
   "outputs": [],
   "source": [
    "X_train = X_train.filter(items = top_feat.name)\n",
    "X_test = X_test.filter(items = top_feat.name)"
   ]
  },
  {
   "cell_type": "code",
   "execution_count": 16,
   "metadata": {
    "collapsed": false
   },
   "outputs": [
    {
     "data": {
      "text/plain": [
       "(7249, 24)"
      ]
     },
     "execution_count": 16,
     "metadata": {},
     "output_type": "execute_result"
    }
   ],
   "source": [
    "X_train.shape"
   ]
  },
  {
   "cell_type": "markdown",
   "metadata": {},
   "source": [
    "### Setting up decision tree Regressor"
   ]
  },
  {
   "cell_type": "code",
   "execution_count": 17,
   "metadata": {
    "collapsed": false
   },
   "outputs": [],
   "source": [
    "from sklearn import tree"
   ]
  },
  {
   "cell_type": "code",
   "execution_count": 18,
   "metadata": {
    "collapsed": false
   },
   "outputs": [],
   "source": [
    "#clf = tree.DecisionTreeRegressor()\n",
    "# clf = clf.fit(X_train, y_train, sample_weight = nwgt_train)\n",
    "# y_pred_train = clf.predict(X_train)\n",
    "\n",
    "#forest = AdaBoostRegressor(n_estimators = 50)\n",
    "#forest = ExtraTreesClassifier(n_estimators = 50)\n",
    "forest.fit(X_train, y_train.KWH)#, sample_weight = nwgt_train)\n",
    "y_pred_train = forest.predict(X_train)"
   ]
  },
  {
   "cell_type": "code",
   "execution_count": 19,
   "metadata": {
    "collapsed": false
   },
   "outputs": [
    {
     "name": "stdout",
     "output_type": "stream",
     "text": [
      "RMSE: 0.0\n"
     ]
    }
   ],
   "source": [
    "# Examine RMSE for fitted data\n",
    "from sklearn.metrics import mean_squared_error\n",
    "print('RMSE: %s' % (mean_squared_error(y_train, y_pred_train, nwgt_train))**0.5)"
   ]
  },
  {
   "cell_type": "code",
   "execution_count": 20,
   "metadata": {
    "collapsed": false
   },
   "outputs": [
    {
     "name": "stdout",
     "output_type": "stream",
     "text": [
      "RMSE: 8750.27775452\n"
     ]
    }
   ],
   "source": [
    "# Examine RMSE for test data\n",
    "y_pred_test = forest.predict(X_test)\n",
    "print('RMSE: %s' % (mean_squared_error(y_test, y_pred_test, nwgt_test))**0.5)"
   ]
  },
  {
   "cell_type": "markdown",
   "metadata": {},
   "source": [
    "### The current RSME for the test data (8541) is worse than the RSME in my simple baseline regression of KWH vs SQFT (6877). Judging from the low RSME from the predictions on the training set, my model is overfit. How do I adjust?"
   ]
  },
  {
   "cell_type": "code",
   "execution_count": 21,
   "metadata": {
    "collapsed": false
   },
   "outputs": [],
   "source": [
    "y_pred_tr = pd.DataFrame()\n",
    "y_pred_tr['yptrain'] = y_pred_train\n",
    "\n",
    "y_pred_te = pd.DataFrame()\n",
    "y_pred_te['yptest'] = y_pred_test"
   ]
  },
  {
   "cell_type": "markdown",
   "metadata": {
    "collapsed": true
   },
   "source": [
    "## Try Pipeline Model"
   ]
  },
  {
   "cell_type": "code",
   "execution_count": 25,
   "metadata": {
    "collapsed": true
   },
   "outputs": [],
   "source": [
    "from sklearn.feature_selection import RFE\n",
    "from sklearn.svm import SVR"
   ]
  },
  {
   "cell_type": "code",
   "execution_count": 23,
   "metadata": {
    "collapsed": true
   },
   "outputs": [],
   "source": [
    "X_train, X_test, y_train, y_test = train_test_split(cat_data, kwh, test_size=0.4)"
   ]
  },
  {
   "cell_type": "code",
   "execution_count": 24,
   "metadata": {
    "collapsed": true
   },
   "outputs": [],
   "source": [
    "nwgt_train = X_train.NWEIGHT\n",
    "nwgt_train = nwgt_train.as_matrix()\n",
    "X_train = X_train.drop('NWEIGHT', axis = 1)\n",
    "\n",
    "nwgt_test = X_test.NWEIGHT\n",
    "nwgt_test = nwgt_test.as_matrix()\n",
    "X_test = X_test.drop('NWEIGHT', axis = 1)"
   ]
  },
  {
   "cell_type": "code",
   "execution_count": 29,
   "metadata": {
    "collapsed": false
   },
   "outputs": [
    {
     "data": {
      "text/plain": [
       "array([False, False, False,  True,  True,  True, False, False, False,\n",
       "       False, False, False, False, False, False, False, False, False,\n",
       "       False, False, False, False, False, False, False, False, False,\n",
       "       False, False, False, False, False, False, False, False, False,\n",
       "       False,  True, False, False, False, False, False, False, False,\n",
       "       False, False, False, False, False, False, False, False, False,\n",
       "        True, False, False, False, False, False, False, False, False,\n",
       "       False, False,  True, False, False, False, False, False, False,\n",
       "        True, False, False, False, False, False, False, False, False,\n",
       "       False, False, False,  True, False, False, False, False, False,\n",
       "       False, False, False, False, False, False, False, False, False,\n",
       "       False, False, False, False,  True, False,  True, False, False,\n",
       "       False, False, False, False, False, False, False, False, False,\n",
       "       False, False, False, False, False, False, False, False, False,\n",
       "       False, False, False, False, False, False, False, False, False,\n",
       "       False, False, False, False, False,  True, False,  True, False,\n",
       "       False, False, False, False, False, False, False, False, False,\n",
       "       False, False, False, False, False, False, False, False, False,\n",
       "       False, False, False, False, False, False, False, False, False,\n",
       "       False, False, False, False, False, False, False, False, False,\n",
       "       False, False, False, False, False, False, False, False, False,\n",
       "       False,  True, False, False, False, False, False, False, False,\n",
       "       False, False, False, False, False, False, False, False, False,\n",
       "       False, False, False, False, False, False, False, False, False,\n",
       "       False, False, False, False, False, False, False, False, False,\n",
       "       False, False, False,  True, False,  True, False, False, False,\n",
       "       False, False,  True,  True, False, False, False, False, False,\n",
       "       False, False, False, False, False, False, False, False,  True,\n",
       "       False, False, False, False, False, False, False, False, False,\n",
       "       False,  True, False, False, False, False, False,  True,  True,\n",
       "        True, False,  True, False, False, False, False, False, False,\n",
       "       False, False, False, False, False, False, False, False, False,\n",
       "       False, False, False, False, False, False, False, False, False,\n",
       "        True, False, False, False, False, False, False, False, False,\n",
       "       False, False, False, False, False, False, False, False, False,\n",
       "       False, False, False, False, False, False, False, False, False,\n",
       "       False, False, False, False, False, False, False, False, False,\n",
       "       False, False, False, False, False, False, False, False, False,\n",
       "        True,  True,  True, False, False,  True, False, False, False,\n",
       "       False, False, False, False, False, False, False, False, False,\n",
       "       False, False, False, False, False, False, False, False,  True,\n",
       "       False, False, False, False,  True, False, False, False, False,\n",
       "       False, False, False, False, False, False, False, False, False,\n",
       "       False, False, False, False, False, False, False, False, False,\n",
       "       False, False, False, False, False], dtype=bool)"
      ]
     },
     "execution_count": 29,
     "metadata": {},
     "output_type": "execute_result"
    }
   ],
   "source": [
    "estimator = SVR(kernel = 'linear')\n",
    "selector = RFE(estimator, 30, step = 1)\n",
    "selector = selector.fit(X_train, y_train.KWH)\n",
    "selector.support_"
   ]
  },
  {
   "cell_type": "code",
   "execution_count": 35,
   "metadata": {
    "collapsed": true
   },
   "outputs": [],
   "source": [
    "# th = selector.support_"
   ]
  },
  {
   "cell_type": "code",
   "execution_count": null,
   "metadata": {
    "collapsed": false
   },
   "outputs": [],
   "source": []
  },
  {
   "cell_type": "code",
   "execution_count": 36,
   "metadata": {
    "collapsed": false
   },
   "outputs": [],
   "source": [
    "# pc_cat[th]"
   ]
  },
  {
   "cell_type": "code",
   "execution_count": 37,
   "metadata": {
    "collapsed": false
   },
   "outputs": [],
   "source": [
    "#top_feat"
   ]
  },
  {
   "cell_type": "code",
   "execution_count": null,
   "metadata": {
    "collapsed": true
   },
   "outputs": [],
   "source": []
  }
 ],
 "metadata": {
  "anaconda-cloud": {},
  "kernelspec": {
   "display_name": "Python [Root]",
   "language": "python",
   "name": "Python [Root]"
  },
  "language_info": {
   "codemirror_mode": {
    "name": "ipython",
    "version": 3
   },
   "file_extension": ".py",
   "mimetype": "text/x-python",
   "name": "python",
   "nbconvert_exporter": "python",
   "pygments_lexer": "ipython3",
   "version": "3.5.2"
  }
 },
 "nbformat": 4,
 "nbformat_minor": 0
}
