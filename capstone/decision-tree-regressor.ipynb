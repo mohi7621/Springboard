{
 "cells": [
  {
   "cell_type": "markdown",
   "metadata": {},
   "source": [
    "### Initial Decision Tree Regressor Exploration"
   ]
  },
  {
   "cell_type": "code",
   "execution_count": 1,
   "metadata": {
    "collapsed": false
   },
   "outputs": [
    {
     "name": "stdout",
     "output_type": "stream",
     "text": [
      "Populating the interactive namespace from numpy and matplotlib\n"
     ]
    }
   ],
   "source": [
    "%pylab inline \n",
    "\n",
    "import numpy as np\n",
    "import pandas as pd\n",
    "import scipy.stats as stats\n",
    "import matplotlib.pyplot as plt\n",
    "import sklearn\n",
    "import seaborn as sns\n",
    "from sklearn.linear_model import LinearRegression\n",
    "\n",
    "# special matplotlib argument for improved plots\n",
    "from matplotlib import rcParams\n",
    "sns.set_style(\"whitegrid\")\n",
    "sns.set_context(\"poster\")"
   ]
  },
  {
   "cell_type": "code",
   "execution_count": 29,
   "metadata": {
    "collapsed": true
   },
   "outputs": [],
   "source": [
    "data = pd.DataFrame.from_csv('cap-data/data-clean-round1/data_v2.csv', index_col= 0, encoding = 'utf-8')\n",
    "nweight = pd.DataFrame.from_csv('cap-data/data-clean-round1/nweight.csv', index_col= 0, encoding = 'utf-8')\n",
    "pc = pd.DataFrame.from_csv('cap-data/data-clean-round1/pc_v2.csv', index_col= 0, encoding = 'utf-8')\n",
    "kwh = pd.DataFrame.from_csv('cap-data/data-clean-round1/kwh.csv', index_col= 0, encoding = 'utf-8')\n",
    "pc_cat = pd.DataFrame.from_csv('cap-data/data-clean-round1/pc_cat_vars.csv', index_col= 0, encoding = 'utf-8')"
   ]
  },
  {
   "cell_type": "markdown",
   "metadata": {},
   "source": [
    "### Splitting Up Dataset for kfold cross validation\n"
   ]
  },
  {
   "cell_type": "code",
   "execution_count": 30,
   "metadata": {
    "collapsed": true
   },
   "outputs": [],
   "source": [
    "from sklearn.model_selection import train_test_split"
   ]
  },
  {
   "cell_type": "code",
   "execution_count": 31,
   "metadata": {
    "collapsed": true
   },
   "outputs": [],
   "source": [
    "cat_data = data.filter(items = pc_cat['Variable Name'])\n",
    "cat_data['NWEIGHT'] = nweight"
   ]
  },
  {
   "cell_type": "code",
   "execution_count": 32,
   "metadata": {
    "collapsed": true
   },
   "outputs": [],
   "source": [
    "X_train, X_test, y_train, y_test = train_test_split(cat_data, kwh, test_size=0.4)"
   ]
  },
  {
   "cell_type": "code",
   "execution_count": 33,
   "metadata": {
    "collapsed": false
   },
   "outputs": [],
   "source": [
    "nwgt_train = X_train.NWEIGHT\n",
    "nwgt_train = nwgt_train.as_matrix()\n",
    "X_train = X_train.drop('NWEIGHT', axis = 1)\n",
    "\n",
    "nwgt_test = X_test.NWEIGHT\n",
    "nwgt_test = nwgt_test.as_matrix()\n",
    "X_test = X_test.drop('NWEIGHT', axis = 1)"
   ]
  },
  {
   "cell_type": "markdown",
   "metadata": {},
   "source": [
    "### Feature Selection"
   ]
  },
  {
   "cell_type": "code",
   "execution_count": 34,
   "metadata": {
    "collapsed": true
   },
   "outputs": [],
   "source": [
    "from sklearn.ensemble import ExtraTreesClassifier\n",
    "from sklearn.feature_selection import SelectFromModel"
   ]
  },
  {
   "cell_type": "code",
   "execution_count": 8,
   "metadata": {
    "collapsed": true
   },
   "outputs": [],
   "source": [
    "# Random forest with n =15 to determine feature importance\n",
    "forest = ExtraTreesClassifier(n_estimators = 15)\n",
    "forest.fit(X_train, y_train.KWH, sample_weight = nwgt_train)\n",
    "importances = forest.feature_importances_\n",
    "std = np.std([tree.feature_importances_ for tree in forest.estimators_],axis=0)\n",
    "indices = np.argsort(importances)[::-1]"
   ]
  },
  {
   "cell_type": "code",
   "execution_count": 35,
   "metadata": {
    "collapsed": true
   },
   "outputs": [],
   "source": [
    "# Data frame with feature rankings\n",
    "rfeats = pd.DataFrame(columns = ['no', 'imp', 'name'])\n",
    "\n",
    "for f in range(X_train.shape[1]):\n",
    "    rfeats.loc[len(rfeats)] = [indices[f], importances[indices[f]], X_train.columns[indices[f]]]"
   ]
  },
  {
   "cell_type": "code",
   "execution_count": 36,
   "metadata": {
    "collapsed": false
   },
   "outputs": [
    {
     "data": {
      "text/html": [
       "<div>\n",
       "<table border=\"1\" class=\"dataframe\">\n",
       "  <thead>\n",
       "    <tr style=\"text-align: right;\">\n",
       "      <th></th>\n",
       "      <th>no</th>\n",
       "      <th>imp</th>\n",
       "      <th>name</th>\n",
       "    </tr>\n",
       "  </thead>\n",
       "  <tbody>\n",
       "    <tr>\n",
       "      <th>0</th>\n",
       "      <td>59.0</td>\n",
       "      <td>0.006324</td>\n",
       "      <td>NUMMEAL</td>\n",
       "    </tr>\n",
       "    <tr>\n",
       "      <th>1</th>\n",
       "      <td>372.0</td>\n",
       "      <td>0.006236</td>\n",
       "      <td>AGEHHMEMCAT2</td>\n",
       "    </tr>\n",
       "    <tr>\n",
       "      <th>2</th>\n",
       "      <td>2.0</td>\n",
       "      <td>0.006167</td>\n",
       "      <td>REPORTABLE_DOMAIN</td>\n",
       "    </tr>\n",
       "    <tr>\n",
       "      <th>3</th>\n",
       "      <td>62.0</td>\n",
       "      <td>0.006123</td>\n",
       "      <td>TYPERFR1</td>\n",
       "    </tr>\n",
       "    <tr>\n",
       "      <th>4</th>\n",
       "      <td>395.0</td>\n",
       "      <td>0.006080</td>\n",
       "      <td>MONEYPY</td>\n",
       "    </tr>\n",
       "  </tbody>\n",
       "</table>\n",
       "</div>"
      ],
      "text/plain": [
       "      no       imp               name\n",
       "0   59.0  0.006324            NUMMEAL\n",
       "1  372.0  0.006236       AGEHHMEMCAT2\n",
       "2    2.0  0.006167  REPORTABLE_DOMAIN\n",
       "3   62.0  0.006123           TYPERFR1\n",
       "4  395.0  0.006080            MONEYPY"
      ]
     },
     "execution_count": 36,
     "metadata": {},
     "output_type": "execute_result"
    }
   ],
   "source": [
    "rfeats.head()"
   ]
  },
  {
   "cell_type": "code",
   "execution_count": 37,
   "metadata": {
    "collapsed": false
   },
   "outputs": [
    {
     "data": {
      "text/plain": [
       "(7249, 401)"
      ]
     },
     "execution_count": 37,
     "metadata": {},
     "output_type": "execute_result"
    }
   ],
   "source": [
    "X_train.shape"
   ]
  },
  {
   "cell_type": "code",
   "execution_count": 38,
   "metadata": {
    "collapsed": false
   },
   "outputs": [
    {
     "data": {
      "image/png": "[encoded data removed]",
      "text/plain": [
       "<matplotlib.figure.Figure at 0x121ae96a0>"
      ]
     },
     "metadata": {},
     "output_type": "display_data"
    }
   ],
   "source": [
    "# Plot the feature importances of the forest\n",
    "plt.figure()\n",
    "plt.title(\"Feature importances\")\n",
    "plt.bar(range(X_train.shape[1]), importances[indices], color=\"r\", align=\"center\")\n",
    "plt.xticks(range(X_train.shape[1]), indices)\n",
    "plt.xlim([-1, X_train.shape[1]])\n",
    "plt.show()"
   ]
  },
  {
   "cell_type": "code",
   "execution_count": 39,
   "metadata": {
    "collapsed": true
   },
   "outputs": [],
   "source": [
    "top_feat = rfeats[rfeats.imp >=0.004] # Arbitrary threshold for now"
   ]
  },
  {
   "cell_type": "code",
   "execution_count": 40,
   "metadata": {
    "collapsed": false,
    "scrolled": true
   },
   "outputs": [
    {
     "data": {
      "text/html": [
       "<div>\n",
       "<table border=\"1\" class=\"dataframe\">\n",
       "  <thead>\n",
       "    <tr style=\"text-align: right;\">\n",
       "      <th></th>\n",
       "      <th>no</th>\n",
       "      <th>imp</th>\n",
       "      <th>name</th>\n",
       "    </tr>\n",
       "  </thead>\n",
       "  <tbody>\n",
       "    <tr>\n",
       "      <th>0</th>\n",
       "      <td>59.0</td>\n",
       "      <td>0.006324</td>\n",
       "      <td>NUMMEAL</td>\n",
       "    </tr>\n",
       "    <tr>\n",
       "      <th>1</th>\n",
       "      <td>372.0</td>\n",
       "      <td>0.006236</td>\n",
       "      <td>AGEHHMEMCAT2</td>\n",
       "    </tr>\n",
       "    <tr>\n",
       "      <th>2</th>\n",
       "      <td>2.0</td>\n",
       "      <td>0.006167</td>\n",
       "      <td>REPORTABLE_DOMAIN</td>\n",
       "    </tr>\n",
       "    <tr>\n",
       "      <th>3</th>\n",
       "      <td>62.0</td>\n",
       "      <td>0.006123</td>\n",
       "      <td>TYPERFR1</td>\n",
       "    </tr>\n",
       "    <tr>\n",
       "      <th>4</th>\n",
       "      <td>395.0</td>\n",
       "      <td>0.006080</td>\n",
       "      <td>MONEYPY</td>\n",
       "    </tr>\n",
       "    <tr>\n",
       "      <th>5</th>\n",
       "      <td>66.0</td>\n",
       "      <td>0.006011</td>\n",
       "      <td>AGERFRI1</td>\n",
       "    </tr>\n",
       "    <tr>\n",
       "      <th>6</th>\n",
       "      <td>371.0</td>\n",
       "      <td>0.005953</td>\n",
       "      <td>EDUCATION</td>\n",
       "    </tr>\n",
       "    <tr>\n",
       "      <th>7</th>\n",
       "      <td>8.0</td>\n",
       "      <td>0.005881</td>\n",
       "      <td>YEARMADERANGE</td>\n",
       "    </tr>\n",
       "    <tr>\n",
       "      <th>8</th>\n",
       "      <td>277.0</td>\n",
       "      <td>0.005758</td>\n",
       "      <td>WINDOWS</td>\n",
       "    </tr>\n",
       "    <tr>\n",
       "      <th>9</th>\n",
       "      <td>49.0</td>\n",
       "      <td>0.005606</td>\n",
       "      <td>OVENUSE</td>\n",
       "    </tr>\n",
       "    <tr>\n",
       "      <th>10</th>\n",
       "      <td>192.0</td>\n",
       "      <td>0.005517</td>\n",
       "      <td>EQUIPAGE</td>\n",
       "    </tr>\n",
       "    <tr>\n",
       "      <th>11</th>\n",
       "      <td>262.0</td>\n",
       "      <td>0.005444</td>\n",
       "      <td>USECFAN</td>\n",
       "    </tr>\n",
       "    <tr>\n",
       "      <th>12</th>\n",
       "      <td>9.0</td>\n",
       "      <td>0.005426</td>\n",
       "      <td>OCCUPYYRANGE</td>\n",
       "    </tr>\n",
       "    <tr>\n",
       "      <th>13</th>\n",
       "      <td>67.0</td>\n",
       "      <td>0.005226</td>\n",
       "      <td>ESFRIG</td>\n",
       "    </tr>\n",
       "    <tr>\n",
       "      <th>14</th>\n",
       "      <td>184.0</td>\n",
       "      <td>0.005210</td>\n",
       "      <td>CHRGPLGE</td>\n",
       "    </tr>\n",
       "    <tr>\n",
       "      <th>15</th>\n",
       "      <td>96.0</td>\n",
       "      <td>0.005175</td>\n",
       "      <td>AGEDW</td>\n",
       "    </tr>\n",
       "    <tr>\n",
       "      <th>16</th>\n",
       "      <td>183.0</td>\n",
       "      <td>0.005162</td>\n",
       "      <td>ELECCHRG</td>\n",
       "    </tr>\n",
       "    <tr>\n",
       "      <th>17</th>\n",
       "      <td>367.0</td>\n",
       "      <td>0.005109</td>\n",
       "      <td>EMPLOYHH</td>\n",
       "    </tr>\n",
       "    <tr>\n",
       "      <th>18</th>\n",
       "      <td>4.0</td>\n",
       "      <td>0.005087</td>\n",
       "      <td>Climate_Region_Pub</td>\n",
       "    </tr>\n",
       "    <tr>\n",
       "      <th>19</th>\n",
       "      <td>282.0</td>\n",
       "      <td>0.004983</td>\n",
       "      <td>ADQINSUL</td>\n",
       "    </tr>\n",
       "    <tr>\n",
       "      <th>20</th>\n",
       "      <td>63.0</td>\n",
       "      <td>0.004931</td>\n",
       "      <td>SIZRFRI1</td>\n",
       "    </tr>\n",
       "    <tr>\n",
       "      <th>21</th>\n",
       "      <td>13.0</td>\n",
       "      <td>0.004928</td>\n",
       "      <td>WALLTYPE</td>\n",
       "    </tr>\n",
       "    <tr>\n",
       "      <th>22</th>\n",
       "      <td>182.0</td>\n",
       "      <td>0.004918</td>\n",
       "      <td>ELECDEV</td>\n",
       "    </tr>\n",
       "    <tr>\n",
       "      <th>23</th>\n",
       "      <td>115.0</td>\n",
       "      <td>0.004915</td>\n",
       "      <td>TVSIZE1</td>\n",
       "    </tr>\n",
       "    <tr>\n",
       "      <th>24</th>\n",
       "      <td>5.0</td>\n",
       "      <td>0.004893</td>\n",
       "      <td>AIA_Zone</td>\n",
       "    </tr>\n",
       "    <tr>\n",
       "      <th>25</th>\n",
       "      <td>116.0</td>\n",
       "      <td>0.004880</td>\n",
       "      <td>TVTYPE1</td>\n",
       "    </tr>\n",
       "    <tr>\n",
       "      <th>26</th>\n",
       "      <td>287.0</td>\n",
       "      <td>0.004877</td>\n",
       "      <td>DRAFTY</td>\n",
       "    </tr>\n",
       "    <tr>\n",
       "      <th>27</th>\n",
       "      <td>289.0</td>\n",
       "      <td>0.004865</td>\n",
       "      <td>AGEWS</td>\n",
       "    </tr>\n",
       "    <tr>\n",
       "      <th>28</th>\n",
       "      <td>247.0</td>\n",
       "      <td>0.004861</td>\n",
       "      <td>AGECENAC</td>\n",
       "    </tr>\n",
       "    <tr>\n",
       "      <th>29</th>\n",
       "      <td>1.0</td>\n",
       "      <td>0.004840</td>\n",
       "      <td>DIVISION</td>\n",
       "    </tr>\n",
       "    <tr>\n",
       "      <th>...</th>\n",
       "      <td>...</td>\n",
       "      <td>...</td>\n",
       "      <td>...</td>\n",
       "    </tr>\n",
       "    <tr>\n",
       "      <th>34</th>\n",
       "      <td>107.0</td>\n",
       "      <td>0.004619</td>\n",
       "      <td>ESCWASH</td>\n",
       "    </tr>\n",
       "    <tr>\n",
       "      <th>35</th>\n",
       "      <td>179.0</td>\n",
       "      <td>0.004570</td>\n",
       "      <td>BATTOOLS</td>\n",
       "    </tr>\n",
       "    <tr>\n",
       "      <th>36</th>\n",
       "      <td>55.0</td>\n",
       "      <td>0.004547</td>\n",
       "      <td>OUTGRILLFUEL</td>\n",
       "    </tr>\n",
       "    <tr>\n",
       "      <th>37</th>\n",
       "      <td>45.0</td>\n",
       "      <td>0.004543</td>\n",
       "      <td>OUTLET</td>\n",
       "    </tr>\n",
       "    <tr>\n",
       "      <th>38</th>\n",
       "      <td>119.0</td>\n",
       "      <td>0.004538</td>\n",
       "      <td>DVR1</td>\n",
       "    </tr>\n",
       "    <tr>\n",
       "      <th>39</th>\n",
       "      <td>14.0</td>\n",
       "      <td>0.004536</td>\n",
       "      <td>ROOFTYPE</td>\n",
       "    </tr>\n",
       "    <tr>\n",
       "      <th>40</th>\n",
       "      <td>230.0</td>\n",
       "      <td>0.004520</td>\n",
       "      <td>WHEATSIZ</td>\n",
       "    </tr>\n",
       "    <tr>\n",
       "      <th>41</th>\n",
       "      <td>189.0</td>\n",
       "      <td>0.004505</td>\n",
       "      <td>EQUIPM</td>\n",
       "    </tr>\n",
       "    <tr>\n",
       "      <th>42</th>\n",
       "      <td>97.0</td>\n",
       "      <td>0.004482</td>\n",
       "      <td>ESDISHW</td>\n",
       "    </tr>\n",
       "    <tr>\n",
       "      <th>43</th>\n",
       "      <td>128.0</td>\n",
       "      <td>0.004418</td>\n",
       "      <td>TVTYPE2</td>\n",
       "    </tr>\n",
       "    <tr>\n",
       "      <th>44</th>\n",
       "      <td>117.0</td>\n",
       "      <td>0.004398</td>\n",
       "      <td>CABLESAT1</td>\n",
       "    </tr>\n",
       "    <tr>\n",
       "      <th>45</th>\n",
       "      <td>53.0</td>\n",
       "      <td>0.004345</td>\n",
       "      <td>DEFROST</td>\n",
       "    </tr>\n",
       "    <tr>\n",
       "      <th>46</th>\n",
       "      <td>370.0</td>\n",
       "      <td>0.004306</td>\n",
       "      <td>Householder_Race</td>\n",
       "    </tr>\n",
       "    <tr>\n",
       "      <th>47</th>\n",
       "      <td>103.0</td>\n",
       "      <td>0.004304</td>\n",
       "      <td>WASHLOAD</td>\n",
       "    </tr>\n",
       "    <tr>\n",
       "      <th>48</th>\n",
       "      <td>0.0</td>\n",
       "      <td>0.004304</td>\n",
       "      <td>REGIONC</td>\n",
       "    </tr>\n",
       "    <tr>\n",
       "      <th>49</th>\n",
       "      <td>373.0</td>\n",
       "      <td>0.004296</td>\n",
       "      <td>AGEHHMEMCAT3</td>\n",
       "    </tr>\n",
       "    <tr>\n",
       "      <th>50</th>\n",
       "      <td>273.0</td>\n",
       "      <td>0.004258</td>\n",
       "      <td>INSTLCFL</td>\n",
       "    </tr>\n",
       "    <tr>\n",
       "      <th>51</th>\n",
       "      <td>278.0</td>\n",
       "      <td>0.004249</td>\n",
       "      <td>TYPEGLASS</td>\n",
       "    </tr>\n",
       "    <tr>\n",
       "      <th>52</th>\n",
       "      <td>180.0</td>\n",
       "      <td>0.004239</td>\n",
       "      <td>BATCHRG</td>\n",
       "    </tr>\n",
       "    <tr>\n",
       "      <th>53</th>\n",
       "      <td>181.0</td>\n",
       "      <td>0.004237</td>\n",
       "      <td>CHRGPLGT</td>\n",
       "    </tr>\n",
       "    <tr>\n",
       "      <th>54</th>\n",
       "      <td>256.0</td>\n",
       "      <td>0.004213</td>\n",
       "      <td>WWACAGE</td>\n",
       "    </tr>\n",
       "    <tr>\n",
       "      <th>55</th>\n",
       "      <td>274.0</td>\n",
       "      <td>0.004206</td>\n",
       "      <td>HELPCFL</td>\n",
       "    </tr>\n",
       "    <tr>\n",
       "      <th>56</th>\n",
       "      <td>118.0</td>\n",
       "      <td>0.004184</td>\n",
       "      <td>COMBODVR1</td>\n",
       "    </tr>\n",
       "    <tr>\n",
       "      <th>57</th>\n",
       "      <td>127.0</td>\n",
       "      <td>0.004122</td>\n",
       "      <td>TVSIZE2</td>\n",
       "    </tr>\n",
       "    <tr>\n",
       "      <th>58</th>\n",
       "      <td>174.0</td>\n",
       "      <td>0.004091</td>\n",
       "      <td>SWAMPCOL</td>\n",
       "    </tr>\n",
       "    <tr>\n",
       "      <th>59</th>\n",
       "      <td>248.0</td>\n",
       "      <td>0.004056</td>\n",
       "      <td>REPLCCAC</td>\n",
       "    </tr>\n",
       "    <tr>\n",
       "      <th>60</th>\n",
       "      <td>58.0</td>\n",
       "      <td>0.004054</td>\n",
       "      <td>TOASTER</td>\n",
       "    </tr>\n",
       "    <tr>\n",
       "      <th>61</th>\n",
       "      <td>104.0</td>\n",
       "      <td>0.004046</td>\n",
       "      <td>WASHTEMP</td>\n",
       "    </tr>\n",
       "    <tr>\n",
       "      <th>62</th>\n",
       "      <td>122.0</td>\n",
       "      <td>0.004045</td>\n",
       "      <td>COMBOVCRDVD1</td>\n",
       "    </tr>\n",
       "    <tr>\n",
       "      <th>63</th>\n",
       "      <td>284.0</td>\n",
       "      <td>0.004017</td>\n",
       "      <td>AGEINS</td>\n",
       "    </tr>\n",
       "  </tbody>\n",
       "</table>\n",
       "<p>64 rows × 3 columns</p>\n",
       "</div>"
      ],
      "text/plain": [
       "       no       imp                name\n",
       "0    59.0  0.006324             NUMMEAL\n",
       "1   372.0  0.006236        AGEHHMEMCAT2\n",
       "2     2.0  0.006167   REPORTABLE_DOMAIN\n",
       "3    62.0  0.006123            TYPERFR1\n",
       "4   395.0  0.006080             MONEYPY\n",
       "5    66.0  0.006011            AGERFRI1\n",
       "6   371.0  0.005953           EDUCATION\n",
       "7     8.0  0.005881       YEARMADERANGE\n",
       "8   277.0  0.005758             WINDOWS\n",
       "9    49.0  0.005606             OVENUSE\n",
       "10  192.0  0.005517            EQUIPAGE\n",
       "11  262.0  0.005444             USECFAN\n",
       "12    9.0  0.005426        OCCUPYYRANGE\n",
       "13   67.0  0.005226              ESFRIG\n",
       "14  184.0  0.005210            CHRGPLGE\n",
       "15   96.0  0.005175               AGEDW\n",
       "16  183.0  0.005162            ELECCHRG\n",
       "17  367.0  0.005109            EMPLOYHH\n",
       "18    4.0  0.005087  Climate_Region_Pub\n",
       "19  282.0  0.004983            ADQINSUL\n",
       "20   63.0  0.004931            SIZRFRI1\n",
       "21   13.0  0.004928            WALLTYPE\n",
       "22  182.0  0.004918             ELECDEV\n",
       "23  115.0  0.004915             TVSIZE1\n",
       "24    5.0  0.004893            AIA_Zone\n",
       "25  116.0  0.004880             TVTYPE1\n",
       "26  287.0  0.004877              DRAFTY\n",
       "27  289.0  0.004865               AGEWS\n",
       "28  247.0  0.004861            AGECENAC\n",
       "29    1.0  0.004840            DIVISION\n",
       "..    ...       ...                 ...\n",
       "34  107.0  0.004619             ESCWASH\n",
       "35  179.0  0.004570            BATTOOLS\n",
       "36   55.0  0.004547        OUTGRILLFUEL\n",
       "37   45.0  0.004543              OUTLET\n",
       "38  119.0  0.004538                DVR1\n",
       "39   14.0  0.004536            ROOFTYPE\n",
       "40  230.0  0.004520            WHEATSIZ\n",
       "41  189.0  0.004505              EQUIPM\n",
       "42   97.0  0.004482             ESDISHW\n",
       "43  128.0  0.004418             TVTYPE2\n",
       "44  117.0  0.004398           CABLESAT1\n",
       "45   53.0  0.004345             DEFROST\n",
       "46  370.0  0.004306    Householder_Race\n",
       "47  103.0  0.004304            WASHLOAD\n",
       "48    0.0  0.004304             REGIONC\n",
       "49  373.0  0.004296        AGEHHMEMCAT3\n",
       "50  273.0  0.004258            INSTLCFL\n",
       "51  278.0  0.004249           TYPEGLASS\n",
       "52  180.0  0.004239             BATCHRG\n",
       "53  181.0  0.004237            CHRGPLGT\n",
       "54  256.0  0.004213             WWACAGE\n",
       "55  274.0  0.004206             HELPCFL\n",
       "56  118.0  0.004184           COMBODVR1\n",
       "57  127.0  0.004122             TVSIZE2\n",
       "58  174.0  0.004091            SWAMPCOL\n",
       "59  248.0  0.004056            REPLCCAC\n",
       "60   58.0  0.004054             TOASTER\n",
       "61  104.0  0.004046            WASHTEMP\n",
       "62  122.0  0.004045        COMBOVCRDVD1\n",
       "63  284.0  0.004017              AGEINS\n",
       "\n",
       "[64 rows x 3 columns]"
      ]
     },
     "execution_count": 40,
     "metadata": {},
     "output_type": "execute_result"
    }
   ],
   "source": [
    "top_feat"
   ]
  },
  {
   "cell_type": "markdown",
   "metadata": {},
   "source": [
    "#### Filter out top features from data"
   ]
  },
  {
   "cell_type": "code",
   "execution_count": 41,
   "metadata": {
    "collapsed": true
   },
   "outputs": [],
   "source": [
    "X_train = X_train.filter(items = top_feat.name)\n",
    "X_test = X_test.filter(items = top_feat.name)"
   ]
  },
  {
   "cell_type": "code",
   "execution_count": 42,
   "metadata": {
    "collapsed": false
   },
   "outputs": [
    {
     "data": {
      "text/plain": [
       "(7249, 64)"
      ]
     },
     "execution_count": 42,
     "metadata": {},
     "output_type": "execute_result"
    }
   ],
   "source": [
    "X_train.shape"
   ]
  },
  {
   "cell_type": "markdown",
   "metadata": {},
   "source": [
    "### Setting up decision tree Regressor"
   ]
  },
  {
   "cell_type": "code",
   "execution_count": 43,
   "metadata": {
    "collapsed": false
   },
   "outputs": [],
   "source": [
    "from sklearn import tree"
   ]
  },
  {
   "cell_type": "code",
   "execution_count": 44,
   "metadata": {
    "collapsed": false
   },
   "outputs": [],
   "source": [
    "clf = tree.DecisionTreeRegressor()\n",
    "clf = clf.fit(X_train, y_train, sample_weight = nwgt_train)\n",
    "y_pred_train = clf.predict(X_train)"
   ]
  },
  {
   "cell_type": "code",
   "execution_count": 45,
   "metadata": {
    "collapsed": false
   },
   "outputs": [
    {
     "name": "stdout",
     "output_type": "stream",
     "text": [
      "RMSE: 5.88467976611e-13\n"
     ]
    }
   ],
   "source": [
    "# Examine RMSE for fitted data\n",
    "from sklearn.metrics import mean_squared_error\n",
    "print('RMSE: %s' % (mean_squared_error(y_train, y_pred_train, nwgt_train))**0.5)"
   ]
  },
  {
   "cell_type": "code",
   "execution_count": 46,
   "metadata": {
    "collapsed": false
   },
   "outputs": [
    {
     "name": "stdout",
     "output_type": "stream",
     "text": [
      "RMSE: 8443.90413008\n"
     ]
    }
   ],
   "source": [
    "# Examine RMSE for test data\n",
    "y_pred_test = clf.predict(X_test)\n",
    "print('RMSE: %s' % (mean_squared_error(y_test, y_pred_test, nwgt_test))**0.5)"
   ]
  },
  {
   "cell_type": "markdown",
   "metadata": {},
   "source": [
    "### The current RSME for the test data (8541) is worse than the RSME in my simple baseline regression of KWH vs SQFT (6877). Judging from the low RSME from the predictions on the training set, my model is overfit. How do I adjust?"
   ]
  },
  {
   "cell_type": "code",
   "execution_count": null,
   "metadata": {
    "collapsed": true
   },
   "outputs": [],
   "source": []
  },
  {
   "cell_type": "code",
   "execution_count": null,
   "metadata": {
    "collapsed": true
   },
   "outputs": [],
   "source": []
  }
 ],
 "metadata": {
  "anaconda-cloud": {},
  "kernelspec": {
   "display_name": "Python [Root]",
   "language": "python",
   "name": "Python [Root]"
  },
  "language_info": {
   "codemirror_mode": {
    "name": "ipython",
    "version": 3
   },
   "file_extension": ".py",
   "mimetype": "text/x-python",
   "name": "python",
   "nbconvert_exporter": "python",
   "pygments_lexer": "ipython3",
   "version": "3.5.2"
  }
 },
 "nbformat": 4,
 "nbformat_minor": 0
}
