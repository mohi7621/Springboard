{
 "cells": [
  {
   "cell_type": "code",
   "execution_count": 2,
   "metadata": {
    "collapsed": false
   },
   "outputs": [
    {
     "name": "stdout",
     "output_type": "stream",
     "text": [
      "Init: initializing centroids\n",
      "Init: initializing clusters\n",
      "Starting iterations...\n",
      "Run 1, iteration: 1/100, moves: 433, cost: 981331.0\n",
      "Run 1, iteration: 2/100, moves: 0, cost: 981331.0\n",
      "Init: initializing centroids\n",
      "Init: initializing clusters\n",
      "Starting iterations...\n",
      "Run 1, iteration: 1/100, moves: 734, cost: 981189.0\n",
      "Run 1, iteration: 2/100, moves: 0, cost: 981189.0\n",
      "Init: initializing centroids\n",
      "Init: initializing clusters\n",
      "Starting iterations...\n",
      "Run 1, iteration: 1/100, moves: 349, cost: 981081.0\n",
      "Run 1, iteration: 2/100, moves: 0, cost: 981081.0\n",
      "Huang: 9.2e+01 seconds\n",
      "Init: initializing centroids\n",
      "Init: initializing clusters\n",
      "Starting iterations...\n",
      "Run 1, iteration: 1/100, moves: 174, cost: 979356.0\n",
      "Run 1, iteration: 2/100, moves: 0, cost: 979356.0\n",
      "Init: initializing centroids\n",
      "Init: initializing clusters\n",
      "Starting iterations...\n",
      "Run 1, iteration: 1/100, moves: 174, cost: 979356.0\n",
      "Run 1, iteration: 2/100, moves: 0, cost: 979356.0\n",
      "Init: initializing centroids\n",
      "Init: initializing clusters\n",
      "Starting iterations...\n",
      "Run 1, iteration: 1/100, moves: 174, cost: 979356.0\n",
      "Run 1, iteration: 2/100, moves: 0, cost: 979356.0\n",
      "Cao: 1.2e+02 seconds\n"
     ]
    }
   ],
   "source": [
    "%run benchmark.py"
   ]
  },
  {
   "cell_type": "code",
   "execution_count": 3,
   "metadata": {
    "collapsed": false
   },
   "outputs": [
    {
     "name": "stdout",
     "output_type": "stream",
     "text": [
      "Init: initializing centroids\n",
      "Init: initializing clusters\n",
      "Starting iterations...\n",
      "Run 1, iteration: 1/100, moves: 17, cost: 221.0\n",
      "Run 1, iteration: 2/100, moves: 9, cost: 199.0\n",
      "Run 1, iteration: 3/100, moves: 0, cost: 199.0\n",
      "k-modes (Huang) centroids:\n",
      "[[3 0 2 1 0 1 0 1 0 2 1 1 0 2 2 0 0 0 1 0 3 1 1 1 0 0 0 0 4 0 0 0 0 0 0]\n",
      " [0 1 2 1 0 3 1 2 1 0 1 1 0 2 2 0 0 0 1 0 2 2 0 0 0 0 0 3 4 0 0 0 0 0 1]\n",
      " [5 0 0 2 1 1 2 1 0 0 1 1 0 2 2 0 0 0 1 0 0 3 0 0 0 2 1 0 4 0 0 0 0 0 0]\n",
      " [0 1 2 0 0 0 1 1 0 2 1 0 0 2 2 0 0 0 1 0 1 1 0 1 0 0 0 3 4 0 0 0 0 0 0]]\n",
      "Final training cost: 199.0\n",
      "Training iterations: 3\n",
      "Init: initializing centroids\n",
      "Init: initializing clusters\n",
      "Starting iterations...\n",
      "Run 1, iteration: 1/100, moves: 2, cost: 204.0\n",
      "Run 1, iteration: 2/100, moves: 2, cost: 199.0\n",
      "Run 1, iteration: 3/100, moves: 0, cost: 199.0\n",
      "k-modes (Cao) centroids:\n",
      "[[0 1 2 1 0 3 1 2 1 0 1 1 0 2 2 0 0 0 1 0 2 2 0 0 0 0 0 3 4 0 0 0 0 0 1]\n",
      " [5 0 0 2 1 1 2 1 0 0 1 1 0 2 2 0 0 0 1 0 0 3 0 0 0 2 1 0 4 0 0 0 0 0 0]\n",
      " [3 0 2 1 0 1 0 1 0 2 1 1 0 2 2 0 0 0 1 0 3 1 1 1 0 0 0 0 4 0 0 0 0 0 0]\n",
      " [0 1 2 0 0 3 1 1 0 1 1 0 0 2 2 0 0 0 1 0 1 1 0 1 1 0 0 3 4 0 0 0 0 0 0]]\n",
      "Final training cost: 199.0\n",
      "Training iterations: 3\n",
      "Results tables:\n",
      "\n",
      "\n",
      "    | Cl. 1 | Cl. 2 | Cl. 3 | Cl. 4 |\n",
      "----|-------|-------|-------|-------|\n",
      " D1 |    10 |     0 |     0 |     0 |\n",
      " D2 |     0 |     0 |    10 |     0 |\n",
      " D3 |     0 |     0 |     0 |    10 |\n",
      " D4 |     0 |    17 |     0 |     0 |\n",
      "\n",
      "\n",
      "    | Cl. 1 | Cl. 2 | Cl. 3 | Cl. 4 |\n",
      "----|-------|-------|-------|-------|\n",
      " D1 |     0 |     0 |    10 |     0 |\n",
      " D2 |     0 |    10 |     0 |     0 |\n",
      " D3 |     0 |     0 |     0 |    10 |\n",
      " D4 |    17 |     0 |     0 |     0 |\n"
     ]
    }
   ],
   "source": [
    "%run soybean.py"
   ]
  },
  {
   "cell_type": "code",
   "execution_count": 4,
   "metadata": {
    "collapsed": false
   },
   "outputs": [
    {
     "name": "stdout",
     "output_type": "stream",
     "text": [
      "Initialization method and algorithm are deterministic. Setting n_init to 1.\n",
      "Init: initializing centroids\n",
      "Init: initializing clusters\n",
      "Init: initializing centroids\n",
      "Init: initializing clusters\n",
      "Starting iterations...\n",
      "Run: 1, iteration: 1/100, moves: 1, ncost: 1664.4708549504871\n",
      "Run: 1, iteration: 2/100, moves: 0, ncost: 1664.4708549504871\n",
      "[array([[ 275.35      ],\n",
      "       [ 738.5       ],\n",
      "       [ 197.66666667],\n",
      "       [ 356.975     ]]), array([[0, 2],\n",
      "       [3, 2],\n",
      "       [2, 2],\n",
      "       [3, 2]], dtype=object)]\n",
      "1664.47085495\n",
      "2\n",
      "Symbol: AAPL, cluster:1\n",
      "Symbol: XOM, cluster:3\n",
      "Symbol: GOOGL, cluster:3\n",
      "Symbol: MSFT, cluster:3\n",
      "Symbol: BRK-A, cluster:3\n",
      "Symbol: WFC, cluster:0\n",
      "Symbol: CHL, cluster:0\n",
      "Symbol: JNJ, cluster:0\n",
      "Symbol: WMT, cluster:0\n",
      "Symbol: VZ, cluster:2\n",
      "Symbol: ORCL, cluster:2\n",
      "Symbol: RDS-A, cluster:2\n"
     ]
    }
   ],
   "source": [
    "%run stocks.py"
   ]
  },
  {
   "cell_type": "code",
   "execution_count": null,
   "metadata": {
    "collapsed": true
   },
   "outputs": [],
   "source": []
  }
 ],
 "metadata": {
  "anaconda-cloud": {},
  "kernelspec": {
   "display_name": "Python [Root]",
   "language": "python",
   "name": "Python [Root]"
  },
  "language_info": {
   "codemirror_mode": {
    "name": "ipython",
    "version": 3
   },
   "file_extension": ".py",
   "mimetype": "text/x-python",
   "name": "python",
   "nbconvert_exporter": "python",
   "pygments_lexer": "ipython3",
   "version": "3.5.2"
  }
 },
 "nbformat": 4,
 "nbformat_minor": 0
}
