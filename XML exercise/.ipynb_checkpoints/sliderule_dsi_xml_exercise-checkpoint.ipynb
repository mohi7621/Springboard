{
 "cells": [
  {
   "cell_type": "markdown",
   "metadata": {},
   "source": [
    "# XML example and exercise\n",
    "****\n",
    "+ study examples of accessing nodes in XML tree structure  \n",
    "+ work on exercise to be completed and submitted\n",
    "****\n",
    "+ reference: https://docs.python.org/2.7/library/xml.etree.elementtree.html\n",
    "+ data source: http://www.dbis.informatik.uni-goettingen.de/Mondial\n",
    "****"
   ]
  },
  {
   "cell_type": "code",
   "execution_count": 116,
   "metadata": {
    "collapsed": true
   },
   "outputs": [],
   "source": [
    "from xml.etree import ElementTree as ET"
   ]
  },
  {
   "cell_type": "markdown",
   "metadata": {},
   "source": [
    "## XML example\n",
    "\n",
    "+ for details about tree traversal and iterators, see https://docs.python.org/2.7/library/xml.etree.elementtree.html"
   ]
  },
  {
   "cell_type": "code",
   "execution_count": 117,
   "metadata": {
    "collapsed": true
   },
   "outputs": [],
   "source": [
    "document_tree = ET.parse( './data/mondial_database_less.xml' )"
   ]
  },
  {
   "cell_type": "code",
   "execution_count": 118,
   "metadata": {
    "collapsed": false
   },
   "outputs": [
    {
     "name": "stdout",
     "output_type": "stream",
     "text": [
      "Albania\n",
      "Greece\n",
      "Macedonia\n",
      "Serbia\n",
      "Montenegro\n",
      "Kosovo\n",
      "Andorra\n"
     ]
    }
   ],
   "source": [
    "# print names of all countries\n",
    "for child in document_tree.getroot():\n",
    "    print(child.find('name').text)"
   ]
  },
  {
   "cell_type": "code",
   "execution_count": 119,
   "metadata": {
    "collapsed": false
   },
   "outputs": [
    {
     "name": "stdout",
     "output_type": "stream",
     "text": [
      "* Albania:\n",
      "Tirana, Shkodër, Durrës, Vlorë, Elbasan, Korçë\n",
      "* Greece:\n",
      "Komotini, Kavala, Athina, Peiraias, Peristeri, Acharnes, Patra, Kozani, Kerkyra, Ioannina, Thessaloniki, Iraklio, Chania, Ermoupoli, Rhodes, Tripoli, Lamia, Chalkida, Larissa, Volos, Mytilini, Karyes\n",
      "* Macedonia:\n",
      "Skopje, Kumanovo\n",
      "* Serbia:\n",
      "Beograd, Novi Sad, Niš\n",
      "* Montenegro:\n",
      "Podgorica\n",
      "* Kosovo:\n",
      "Prishtine\n",
      "* Andorra:\n",
      "Andorra la Vella\n"
     ]
    }
   ],
   "source": [
    "# print names of all countries and their cities\n",
    "for element in document_tree.iterfind('country'):\n",
    "    print ('* ' + element.find('name').text + ':'),\n",
    "    capitals_string = ''\n",
    "    for subelement in element.getiterator('city'):\n",
    "        capitals_string += subelement.find('name').text + ', '\n",
    "    print(capitals_string[:-2])"
   ]
  },
  {
   "cell_type": "markdown",
   "metadata": {},
   "source": [
    "****\n",
    "## XML exercise\n",
    "\n",
    "Using data in 'data/mondial_database.xml', the examples above, and refering to https://docs.python.org/2.7/library/xml.etree.elementtree.html, find\n",
    "\n",
    "1. 10 countries with the lowest infant mortality rates\n",
    "2. 10 cities with the largest population\n",
    "3. 10 ethnic groups with the largest overall populations (sum of best/latest estimates over all countries)\n",
    "4. name and country of a) longest river, b) largest lake and c) airport at highest elevation"
   ]
  },
  {
   "cell_type": "code",
   "execution_count": 120,
   "metadata": {
    "collapsed": false
   },
   "outputs": [],
   "source": [
    "import pandas as pd\n",
    "import numpy as np\n",
    "document = ET.parse( './data/mondial_database.xml' )\n",
    "root = document.getroot()"
   ]
  },
  {
   "cell_type": "markdown",
   "metadata": {},
   "source": [
    "### Exercise 1: Find 10 countries with the lowest infant mortality rates"
   ]
  },
  {
   "cell_type": "code",
   "execution_count": 121,
   "metadata": {
    "collapsed": false
   },
   "outputs": [
    {
     "data": {
      "text/html": [
       "<div>\n",
       "<table border=\"1\" class=\"dataframe\">\n",
       "  <thead>\n",
       "    <tr style=\"text-align: right;\">\n",
       "      <th></th>\n",
       "      <th>country</th>\n",
       "      <th>infant_mortality</th>\n",
       "    </tr>\n",
       "  </thead>\n",
       "  <tbody>\n",
       "    <tr>\n",
       "      <th>38</th>\n",
       "      <td>Monaco</td>\n",
       "      <td>1.81</td>\n",
       "    </tr>\n",
       "    <tr>\n",
       "      <th>98</th>\n",
       "      <td>Japan</td>\n",
       "      <td>2.13</td>\n",
       "    </tr>\n",
       "    <tr>\n",
       "      <th>36</th>\n",
       "      <td>Norway</td>\n",
       "      <td>2.48</td>\n",
       "    </tr>\n",
       "    <tr>\n",
       "      <th>117</th>\n",
       "      <td>Bermuda</td>\n",
       "      <td>2.48</td>\n",
       "    </tr>\n",
       "    <tr>\n",
       "      <th>106</th>\n",
       "      <td>Singapore</td>\n",
       "      <td>2.53</td>\n",
       "    </tr>\n",
       "    <tr>\n",
       "      <th>37</th>\n",
       "      <td>Sweden</td>\n",
       "      <td>2.60</td>\n",
       "    </tr>\n",
       "    <tr>\n",
       "      <th>10</th>\n",
       "      <td>Czech Republic</td>\n",
       "      <td>2.63</td>\n",
       "    </tr>\n",
       "    <tr>\n",
       "      <th>78</th>\n",
       "      <td>Hong Kong</td>\n",
       "      <td>2.73</td>\n",
       "    </tr>\n",
       "    <tr>\n",
       "      <th>79</th>\n",
       "      <td>Macao</td>\n",
       "      <td>3.13</td>\n",
       "    </tr>\n",
       "    <tr>\n",
       "      <th>44</th>\n",
       "      <td>Iceland</td>\n",
       "      <td>3.15</td>\n",
       "    </tr>\n",
       "  </tbody>\n",
       "</table>\n",
       "</div>"
      ],
      "text/plain": [
       "            country  infant_mortality\n",
       "38           Monaco              1.81\n",
       "98            Japan              2.13\n",
       "36           Norway              2.48\n",
       "117         Bermuda              2.48\n",
       "106       Singapore              2.53\n",
       "37           Sweden              2.60\n",
       "10   Czech Republic              2.63\n",
       "78        Hong Kong              2.73\n",
       "79            Macao              3.13\n",
       "44          Iceland              3.15"
      ]
     },
     "execution_count": 121,
     "metadata": {},
     "output_type": "execute_result"
    }
   ],
   "source": [
    "# Initialize DataFrame\n",
    "dafr = pd.DataFrame(columns = [\"country\",\"infant_mortality\"])\n",
    "for country in document.findall( 'country' ):\n",
    "    # 'find' finds the first 'name' tag which is the country name for each 'country'\n",
    "    country_name = country.find('name').text\n",
    "    for node in country: \n",
    "        if node.tag == 'infant_mortality': #find mortality rate tag\n",
    "            infant_mortality = float(node.text)\n",
    "            #print(infant_mortality)\n",
    "    dafr.loc[len(dafr)] = [country_name,infant_mortality] #add country name and mortality rate to data frame\n",
    "\n",
    "# Sort resulting dataframe\n",
    "dafr.sort_values(by='infant_mortality').head(10)"
   ]
  },
  {
   "cell_type": "code",
   "execution_count": null,
   "metadata": {
    "collapsed": true
   },
   "outputs": [],
   "source": []
  },
  {
   "cell_type": "markdown",
   "metadata": {},
   "source": [
    "### Exercise 2: 10 cities with the largest population"
   ]
  },
  {
   "cell_type": "code",
   "execution_count": 122,
   "metadata": {
    "collapsed": false
   },
   "outputs": [
    {
     "data": {
      "text/html": [
       "<div>\n",
       "<table border=\"1\" class=\"dataframe\">\n",
       "  <thead>\n",
       "    <tr style=\"text-align: right;\">\n",
       "      <th></th>\n",
       "      <th>city</th>\n",
       "      <th>population</th>\n",
       "    </tr>\n",
       "  </thead>\n",
       "  <tbody>\n",
       "    <tr>\n",
       "      <th>1341</th>\n",
       "      <td>Shanghai</td>\n",
       "      <td>22315474.0</td>\n",
       "    </tr>\n",
       "    <tr>\n",
       "      <th>771</th>\n",
       "      <td>Istanbul</td>\n",
       "      <td>13710512.0</td>\n",
       "    </tr>\n",
       "    <tr>\n",
       "      <th>1527</th>\n",
       "      <td>Mumbai</td>\n",
       "      <td>12442373.0</td>\n",
       "    </tr>\n",
       "    <tr>\n",
       "      <th>479</th>\n",
       "      <td>Moskva</td>\n",
       "      <td>11979529.0</td>\n",
       "    </tr>\n",
       "    <tr>\n",
       "      <th>1340</th>\n",
       "      <td>Beijing</td>\n",
       "      <td>11716620.0</td>\n",
       "    </tr>\n",
       "    <tr>\n",
       "      <th>2810</th>\n",
       "      <td>São Paulo</td>\n",
       "      <td>11152344.0</td>\n",
       "    </tr>\n",
       "    <tr>\n",
       "      <th>1342</th>\n",
       "      <td>Tianjin</td>\n",
       "      <td>11090314.0</td>\n",
       "    </tr>\n",
       "    <tr>\n",
       "      <th>1064</th>\n",
       "      <td>Guangzhou</td>\n",
       "      <td>11071424.0</td>\n",
       "    </tr>\n",
       "    <tr>\n",
       "      <th>1582</th>\n",
       "      <td>Delhi</td>\n",
       "      <td>11034555.0</td>\n",
       "    </tr>\n",
       "    <tr>\n",
       "      <th>1067</th>\n",
       "      <td>Shenzhen</td>\n",
       "      <td>10358381.0</td>\n",
       "    </tr>\n",
       "  </tbody>\n",
       "</table>\n",
       "</div>"
      ],
      "text/plain": [
       "           city  population\n",
       "1341   Shanghai  22315474.0\n",
       "771    Istanbul  13710512.0\n",
       "1527     Mumbai  12442373.0\n",
       "479      Moskva  11979529.0\n",
       "1340    Beijing  11716620.0\n",
       "2810  São Paulo  11152344.0\n",
       "1342    Tianjin  11090314.0\n",
       "1064  Guangzhou  11071424.0\n",
       "1582      Delhi  11034555.0\n",
       "1067   Shenzhen  10358381.0"
      ]
     },
     "execution_count": 122,
     "metadata": {},
     "output_type": "execute_result"
    }
   ],
   "source": [
    "# Initialize DataFrame\n",
    "df = pd.DataFrame(columns = [\"city\",\"population\"])\n",
    "country = document.findall('country')\n",
    "document = ET.parse( './data/mondial_database.xml' )\n",
    "for country in document.findall('country'):\n",
    "    for city in country.iter('city'):\n",
    "        city_name = city.find('name').text\n",
    "        #print(city_name)\n",
    "        yr = int(0)\n",
    "        pop_list = city.findall('population')\n",
    "        if len(pop_list) >= 1:\n",
    "            city_pop = int(pop_list[-1].text)\n",
    "        else:\n",
    "            city_pop = int(0)\n",
    "\n",
    "        df.loc[len(df)] = [city_name, city_pop]\n",
    "\n",
    "df.sort_values(by= 'population', ascending= False).head(10)\n",
    "\n"
   ]
  },
  {
   "cell_type": "code",
   "execution_count": null,
   "metadata": {
    "collapsed": true
   },
   "outputs": [],
   "source": []
  },
  {
   "cell_type": "markdown",
   "metadata": {},
   "source": [
    "### Exercise 3: 10 ethnic groups with the largest overall populations (sum of best/latest estimates over all countries)"
   ]
  },
  {
   "cell_type": "code",
   "execution_count": 123,
   "metadata": {
    "collapsed": false
   },
   "outputs": [
    {
     "data": {
      "text/html": [
       "<div>\n",
       "<table border=\"1\" class=\"dataframe\">\n",
       "  <thead>\n",
       "    <tr style=\"text-align: right;\">\n",
       "      <th></th>\n",
       "      <th>population</th>\n",
       "      <th>percentage</th>\n",
       "      <th>egcalc</th>\n",
       "    </tr>\n",
       "    <tr>\n",
       "      <th>ethnicgroup</th>\n",
       "      <th></th>\n",
       "      <th></th>\n",
       "      <th></th>\n",
       "    </tr>\n",
       "  </thead>\n",
       "  <tbody>\n",
       "    <tr>\n",
       "      <th>Han Chinese</th>\n",
       "      <td>1.360720e+09</td>\n",
       "      <td>0.9150</td>\n",
       "      <td>1.245059e+09</td>\n",
       "    </tr>\n",
       "    <tr>\n",
       "      <th>Indo-Aryan</th>\n",
       "      <td>1.210855e+09</td>\n",
       "      <td>0.7200</td>\n",
       "      <td>8.718156e+08</td>\n",
       "    </tr>\n",
       "    <tr>\n",
       "      <th>European</th>\n",
       "      <td>1.157296e+09</td>\n",
       "      <td>9.7082</td>\n",
       "      <td>4.948722e+08</td>\n",
       "    </tr>\n",
       "    <tr>\n",
       "      <th>African</th>\n",
       "      <td>9.753527e+08</td>\n",
       "      <td>18.6855</td>\n",
       "      <td>3.183251e+08</td>\n",
       "    </tr>\n",
       "    <tr>\n",
       "      <th>Dravidian</th>\n",
       "      <td>1.210855e+09</td>\n",
       "      <td>0.2500</td>\n",
       "      <td>3.027137e+08</td>\n",
       "    </tr>\n",
       "    <tr>\n",
       "      <th>Mestizo</th>\n",
       "      <td>2.797440e+08</td>\n",
       "      <td>8.7070</td>\n",
       "      <td>1.577344e+08</td>\n",
       "    </tr>\n",
       "    <tr>\n",
       "      <th>Bengali</th>\n",
       "      <td>1.497724e+08</td>\n",
       "      <td>0.9800</td>\n",
       "      <td>1.467769e+08</td>\n",
       "    </tr>\n",
       "    <tr>\n",
       "      <th>Russian</th>\n",
       "      <td>3.224384e+08</td>\n",
       "      <td>2.2410</td>\n",
       "      <td>1.318570e+08</td>\n",
       "    </tr>\n",
       "    <tr>\n",
       "      <th>Japanese</th>\n",
       "      <td>1.272980e+08</td>\n",
       "      <td>0.9940</td>\n",
       "      <td>1.265342e+08</td>\n",
       "    </tr>\n",
       "    <tr>\n",
       "      <th>Malay</th>\n",
       "      <td>3.775003e+08</td>\n",
       "      <td>2.4230</td>\n",
       "      <td>1.219936e+08</td>\n",
       "    </tr>\n",
       "  </tbody>\n",
       "</table>\n",
       "</div>"
      ],
      "text/plain": [
       "               population  percentage        egcalc\n",
       "ethnicgroup                                        \n",
       "Han Chinese  1.360720e+09      0.9150  1.245059e+09\n",
       "Indo-Aryan   1.210855e+09      0.7200  8.718156e+08\n",
       "European     1.157296e+09      9.7082  4.948722e+08\n",
       "African      9.753527e+08     18.6855  3.183251e+08\n",
       "Dravidian    1.210855e+09      0.2500  3.027137e+08\n",
       "Mestizo      2.797440e+08      8.7070  1.577344e+08\n",
       "Bengali      1.497724e+08      0.9800  1.467769e+08\n",
       "Russian      3.224384e+08      2.2410  1.318570e+08\n",
       "Japanese     1.272980e+08      0.9940  1.265342e+08\n",
       "Malay        3.775003e+08      2.4230  1.219936e+08"
      ]
     },
     "execution_count": 123,
     "metadata": {},
     "output_type": "execute_result"
    }
   ],
   "source": [
    "# Initialize DataFrame\n",
    "frame = pd.DataFrame(columns = [\"country\",\"population\",\"ethnicgroup\",\"percentage\",\"egcalc\"])\n",
    "document = ET.parse( './data/mondial_database.xml' )\n",
    "\n",
    "for country in document.findall('country'):\n",
    "    country_name = country.find('name').text\n",
    "    ethnicgroup = ''\n",
    "    perc = 0\n",
    "    egcalc = 0\n",
    "    pop_list = country.findall('population')\n",
    "    if len(pop_list) >= 1:\n",
    "        country_pop = int(pop_list[-1].text)\n",
    "    else:\n",
    "        country_pop = int(0)\n",
    "        \n",
    "    for ethnicgroup in country.findall('ethnicgroup'):\n",
    "        eg = ethnicgroup.text\n",
    "        perc = float(ethnicgroup.attrib['percentage'])\n",
    "        perc = (perc/100)\n",
    "        egcalc = country_pop*perc\n",
    "        frame.loc[len(frame)] = [country_name, country_pop, eg, perc, egcalc]\n",
    "        \n",
    "fr2 = frame.groupby('ethnicgroup').sum().sort_values(by = 'egcalc', ascending = False)\n",
    "fr2.head(10)"
   ]
  },
  {
   "cell_type": "markdown",
   "metadata": {},
   "source": [
    "### Exercise 4: name and country of a) longest river, b) largest lake and c) airport at highest elevation"
   ]
  },
  {
   "cell_type": "code",
   "execution_count": 124,
   "metadata": {
    "collapsed": false
   },
   "outputs": [
    {
     "name": "stdout",
     "output_type": "stream",
     "text": [
      "The highest airport is El Alto Intl located in BOL at an elevation of 4063.0\n"
     ]
    }
   ],
   "source": [
    "document = ET.parse( './data/mondial_database.xml' )\n",
    "\n",
    "air_elev = int(0)\n",
    "country = ''\n",
    "\n",
    "for airport in document.findall('airport'):\n",
    "    curr_name = airport.find('name').text\n",
    "    countrycode = airport.get('country')\n",
    "    #print(curr_name)\n",
    "    for node in airport:\n",
    "        if node.tag == 'elevation':\n",
    "            air_test = node.text\n",
    "            if air_test is None:\n",
    "                air_test = 0\n",
    "            else:\n",
    "                air_test = float(air_test)\n",
    "            #print(air_test)\n",
    "            if air_test > air_elev:\n",
    "                air_elev = air_test\n",
    "                country = countrycode\n",
    "                name = curr_name\n",
    "print(\"The highest airport is \" + name + \n",
    "      \" located in \" + country + \" at an elevation of \" + str(air_elev))\n"
   ]
  },
  {
   "cell_type": "code",
   "execution_count": null,
   "metadata": {
    "collapsed": false
   },
   "outputs": [],
   "source": []
  },
  {
   "cell_type": "code",
   "execution_count": null,
   "metadata": {
    "collapsed": true
   },
   "outputs": [],
   "source": []
  },
  {
   "cell_type": "code",
   "execution_count": null,
   "metadata": {
    "collapsed": true
   },
   "outputs": [],
   "source": []
  },
  {
   "cell_type": "code",
   "execution_count": null,
   "metadata": {
    "collapsed": true
   },
   "outputs": [],
   "source": []
  },
  {
   "cell_type": "code",
   "execution_count": null,
   "metadata": {
    "collapsed": true
   },
   "outputs": [],
   "source": []
  },
  {
   "cell_type": "code",
   "execution_count": null,
   "metadata": {
    "collapsed": true
   },
   "outputs": [],
   "source": []
  },
  {
   "cell_type": "code",
   "execution_count": null,
   "metadata": {
    "collapsed": true
   },
   "outputs": [],
   "source": []
  },
  {
   "cell_type": "code",
   "execution_count": null,
   "metadata": {
    "collapsed": true
   },
   "outputs": [],
   "source": []
  }
 ],
 "metadata": {
  "kernelspec": {
   "display_name": "Python [Learning]",
   "language": "python",
   "name": "Python [Learning]"
  },
  "language_info": {
   "codemirror_mode": {
    "name": "ipython",
    "version": 3
   },
   "file_extension": ".py",
   "mimetype": "text/x-python",
   "name": "python",
   "nbconvert_exporter": "python",
   "pygments_lexer": "ipython3",
   "version": "3.5.2"
  }
 },
 "nbformat": 4,
 "nbformat_minor": 0
}
